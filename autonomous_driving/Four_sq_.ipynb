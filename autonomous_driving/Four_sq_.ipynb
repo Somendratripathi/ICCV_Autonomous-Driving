{
  "nbformat": 4,
  "nbformat_minor": 0,
  "metadata": {
    "colab": {
      "name": "Four_sq_.ipynb",
      "provenance": [],
      "collapsed_sections": []
    },
    "kernelspec": {
      "name": "python3",
      "display_name": "Python 3"
    },
    "accelerator": "GPU"
  },
  "cells": [
    {
      "cell_type": "code",
      "metadata": {
        "id": "DYvdfrEo0lz7",
        "colab_type": "code",
        "outputId": "8c8985f6-0ff0-431b-dc5b-5647ca67150e",
        "colab": {
          "base_uri": "https://localhost:8080/",
          "height": 122
        }
      },
      "source": [
        "import os\n",
        "from google.colab import drive\n",
        "drive.mount('/content/drive',force_remount=True)"
      ],
      "execution_count": 0,
      "outputs": [
        {
          "output_type": "stream",
          "text": [
            "Go to this URL in a browser: https://accounts.google.com/o/oauth2/auth?client_id=947318989803-6bn6qk8qdgf4n4g3pfee6491hc0brc4i.apps.googleusercontent.com&redirect_uri=urn%3Aietf%3Awg%3Aoauth%3A2.0%3Aoob&scope=email%20https%3A%2F%2Fwww.googleapis.com%2Fauth%2Fdocs.test%20https%3A%2F%2Fwww.googleapis.com%2Fauth%2Fdrive%20https%3A%2F%2Fwww.googleapis.com%2Fauth%2Fdrive.photos.readonly%20https%3A%2F%2Fwww.googleapis.com%2Fauth%2Fpeopleapi.readonly&response_type=code\n",
            "\n",
            "Enter your authorization code:\n",
            "··········\n",
            "Mounted at /content/drive\n"
          ],
          "name": "stdout"
        }
      ]
    },
    {
      "cell_type": "code",
      "metadata": {
        "id": "1xtZGQwKBABR",
        "colab_type": "code",
        "outputId": "e7ce1069-3d0c-4a19-aa1f-fd378957047b",
        "colab": {
          "base_uri": "https://localhost:8080/",
          "height": 34
        }
      },
      "source": [
        "!pip install -r ./drive/My\\ Drive/L2D/autonomous_driving/requirements.txt"
      ],
      "execution_count": 0,
      "outputs": [
        {
          "output_type": "stream",
          "text": [
            "\u001b[31mERROR: Operation cancelled by user\u001b[0m\n"
          ],
          "name": "stdout"
        }
      ]
    },
    {
      "cell_type": "code",
      "metadata": {
        "id": "kinRhdu90mNB",
        "colab_type": "code",
        "colab": {}
      },
      "source": [
        "!unzip ./drive/My\\ Drive/L2D/sample3.zip >log.txt"
      ],
      "execution_count": 0,
      "outputs": []
    },
    {
      "cell_type": "code",
      "metadata": {
        "id": "Ljz22DBXQV8B",
        "colab_type": "code",
        "colab": {}
      },
      "source": [
        "cp ./drive/My\\ Drive/L2D/autonomous_driving/data/test_full.csv ./Sample3/"
      ],
      "execution_count": 0,
      "outputs": []
    },
    {
      "cell_type": "code",
      "metadata": {
        "id": "7FeqskCE2xEP",
        "colab_type": "code",
        "colab": {}
      },
      "source": [
        "#repo = os.path.join(os.getcwd(),'drive/My Drive/L2D','autonomous_driving/')"
      ],
      "execution_count": 0,
      "outputs": []
    },
    {
      "cell_type": "code",
      "metadata": {
        "id": "noHBfCBU3M-n",
        "colab_type": "code",
        "outputId": "e53f89e7-e1ab-4f1a-b44c-adf36157ec27",
        "colab": {
          "base_uri": "https://localhost:8080/",
          "height": 850
        }
      },
      "source": [
        "!python ./drive/My\\ Drive/L2D/autonomous_driving/FourSquares.py"
      ],
      "execution_count": 0,
      "outputs": [
        {
          "output_type": "stream",
          "text": [
            "Using GPU\n",
            "Phase: train # of data: 38328\n",
            "Phase: validation # of data: 2522\n",
            "Phase: test # of data: 6859\n",
            "Loaded train loader with the following data available as a dict.\n",
            "Index(['cameraRight', 'cameraFront', 'cameraRear', 'cameraLeft', 'canSteering',\n",
            "       'canSpeed', 'chapter', 'frameIndex'],\n",
            "      dtype='object')\n",
            "Downloading: \"https://download.pytorch.org/models/resnet34-333f7ec4.pth\" to /root/.cache/torch/checkpoints/resnet34-333f7ec4.pth\n",
            "100% 83.3M/83.3M [00:01<00:00, 78.9MB/s]\n",
            "Epoch: 1/10\n",
            " Val Speed MSE: 12.606 \n",
            " Val Angle MSE: 1239.411\n",
            "Epoch: 2/10\n",
            " Val Speed MSE: 8.49 \n",
            " Val Angle MSE: 1239.943\n",
            "Epoch: 3/10\n",
            " Val Speed MSE: 8.755 \n",
            " Val Angle MSE: 1239.674\n",
            "Epoch: 4/10\n",
            " Val Speed MSE: 7.482 \n",
            " Val Angle MSE: 1239.187\n",
            "Epoch: 5/10\n",
            " Val Speed MSE: 8.317 \n",
            " Val Angle MSE: 1237.379\n",
            "Epoch: 6/10\n",
            " Val Speed MSE: 7.517 \n",
            " Val Angle MSE: 1240.746\n",
            "Exception ignored in: <bound method _MultiProcessingDataLoaderIter.__del__ of <torch.utils.data.dataloader._MultiProcessingDataLoaderIter object at 0x7f3749394f28>>\n",
            "Traceback (most recent call last):\n",
            "  File \"/usr/local/lib/python3.6/dist-packages/torch/utils/data/dataloader.py\", line 926, in __del__\n",
            "    self._shutdown_workers()\n",
            "  File \"/usr/local/lib/python3.6/dist-packages/torch/utils/data/dataloader.py\", line 906, in _shutdown_workers\n",
            "    w.join()\n",
            "  File \"/usr/lib/python3.6/multiprocessing/process.py\", line 124, in join\n",
            "    res = self._popen.wait(timeout)\n",
            "  File \"/usr/lib/python3.6/multiprocessing/popen_fork.py\", line 50, in wait\n",
            "    return self.poll(os.WNOHANG if timeout == 0.0 else 0)\n",
            "  File \"/usr/lib/python3.6/multiprocessing/popen_fork.py\", line 28, in poll\n",
            "    pid, sts = os.waitpid(self.pid, flag)\n",
            "KeyboardInterrupt: \n",
            "Traceback (most recent call last):\n",
            "  File \"./drive/My Drive/L2D/autonomous_driving/FourSquares.py\", line 185, in <module>\n",
            "    run1 = train_nn(train_loader, validation_loader, model, adm_optimizer, criterion)\n",
            "  File \"./drive/My Drive/L2D/autonomous_driving/FourSquares.py\", line 143, in train_nn\n",
            "    optimizer.step()\n",
            "  File \"/usr/local/lib/python3.6/dist-packages/torch/optim/adamax.py\", line 78, in step\n",
            "    exp_inf.mul_(beta2).unsqueeze(0),\n",
            "KeyboardInterrupt\n"
          ],
          "name": "stdout"
        }
      ]
    },
    {
      "cell_type": "code",
      "metadata": {
        "id": "lwXt1uL5VO8T",
        "colab_type": "code",
        "outputId": "c2fb1974-7b3e-436b-dd8c-42129fa36ada",
        "colab": {
          "base_uri": "https://localhost:8080/",
          "height": 238
        }
      },
      "source": [
        "!python ./drive/My\\ Drive/L2D/autonomous_driving/model_predictions.py"
      ],
      "execution_count": 0,
      "outputs": [
        {
          "output_type": "stream",
          "text": [
            "Using GPU\n",
            "Phase: test # of data: 6859\n",
            "100% 7/7 [02:39<00:00, 21.80s/it]\n",
            "creating frameIndex on test_full\n",
            "done in  6.744468450546265 \n",
            "\n",
            "merging test_full and sampled_predictions\n",
            "merged in  0.08690977096557617 \n",
            "\n",
            "interpolating values\n",
            "filtering >100 rows\n",
            "filtered in  0.0075016021728515625 \n",
            "\n"
          ],
          "name": "stdout"
        }
      ]
    },
    {
      "cell_type": "code",
      "metadata": {
        "id": "RWTaqYnVWAJa",
        "colab_type": "code",
        "colab": {}
      },
      "source": [
        ""
      ],
      "execution_count": 0,
      "outputs": []
    }
  ]
}